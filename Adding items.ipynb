{
 "cells": [
  {
   "cell_type": "code",
   "execution_count": 1,
   "metadata": {},
   "outputs": [],
   "source": [
    "record = {1000:{\"name\":\"onion\",\"expire\":\"10/21\",\"price\":30,\"category\":\"vegetable\",\"quan\":100},\n",
    "         1001:{\"name\":\"tomato\",\"expire\":\"10/21\",\"price\":20,\"category\":\"vegetable\",\"quan\":100},\n",
    "         1002:{\"name\":\"potato\",\"expire\":\"10/21\",\"price\":40,\"category\":\"vegetable\",\"quan\":100},\n",
    "         1003:{\"name\":\"milk\",\"expire\":\"10/21\",\"price\":34,\"category\":\"diary\",\"quan\":50},\n",
    "         1004:{\"name\":\"curd\",\"expire\":\"10/21\",\"price\":30,\"category\":\"diary\",\"quan\":50},\n",
    "         1005:{\"name\":\"chips\",\"expire\":\"12/21\",\"price\":20,\"category\":\"snack\",\"quan\":50},\n",
    "         1006:{\"name\":\"bingo\",\"expire\":\"02/22\",\"price\":10,\"category\":\"snack\",\"quan\":50},\n",
    "         1007:{\"name\":\"lays\",\"expire\":\"02/22\",\"price\":20,\"category\":\"snack\",\"quan\":50},\n",
    "         1008:{\"name\":\"biscuits\",\"expire\":\"02/22\",\"price\":25,\"category\":\"snack\",\"quan\":100},\n",
    "         1009:{\"name\":\"oil\",\"expire\":\"12/21\",\"price\":100,\"category\":\"provision\",\"quan\":50},\n",
    "         1010:{\"name\":\"rice\",\"expire\":\"05/22\",\"price\":50,\"category\":\"provision\",\"quan\":100},\n",
    "         1011:{\"name\":\"wheat\",\"expire\":\"05/22\",\"price\":50,\"category\":\"provision\",\"quan\":100},\n",
    "         1012:{\"name\":\"sugar\",\"expire\":\"02/22\",\"price\":50,\"category\":\"provision\",\"quan\":100},\n",
    "         1013:{\"name\":\"salt\",\"expire\":\"02/22\",\"price\":50,\"category\":\"provision\",\"quan\":100},\n",
    "         1014:{\"name\":\"turmaric\",\"expire\":\"05/22\",\"price\":60,\"category\":\"provision\",\"quan\":50},\n",
    "         1015:{\"name\":\"milk powder\",\"expire\":\"02/22\",\"price\":100,\"category\":\"provision\",\"quan\":50},\n",
    "         1016:{\"name\":\"soap\",\"expire\":\"02/22\",\"price\":32,\"category\":\"provision\",\"quan\":100},\n",
    "         1017:{\"name\":\"shampoo\",\"expire\":\"02/22\",\"price\":100,\"category\":\"provision\",\"quan\":50},\n",
    "         1018:{\"name\":\"diary milk\",\"expire\":\"02/22\",\"price\":20,\"category\":\"chocolate\",\"quan\":50},\n",
    "         1019:{\"name\":\"bar1\",\"expire\":\"02/22\",\"price\":10,\"category\":\"chocolate\",\"quan\":50},\n",
    "         1020:{\"name\":\"fuse\",\"expire\":\"02/22\",\"price\":20,\"category\":\"chocolate\",\"quan\":50},\n",
    "         1021:{\"name\":\"mars\",\"expire\":\"02/22\",\"price\":45,\"category\":\"chocolate\",\"quan\":50},\n",
    "         1022:{\"name\":\"nuties\",\"expire\":\"02/22\",\"price\":40,\"category\":\"chocolate\",\"quan\":50},\n",
    "         1023:{\"name\":\"temptation\",\"expire\":\"02/22\",\"price\":99,\"category\":\"chocolate\",\"quan\":50},\n",
    "         1024:{\"name\":\"silk\",\"expire\":\"02/22\",\"price\":60,\"category\":\"chocolate\",\"quan\":50},\n",
    "         1025:{\"name\":\"5star\",\"expire\":\"02/22\",\"price\":20,\"category\":\"chocolate\",\"quan\":50},\n",
    "         1026:{\"name\":\"juice\",\"expire\":\"02/22\",\"price\":20,\"category\":\"snack\",\"quan\":100},\n",
    "         1027:{\"name\":\"corn flour\",\"expire\":\"02/22\",\"price\":50,\"category\":\"provision\",\"quan\":50},\n",
    "         1028:{\"name\":\"mida\",\"expire\":\"02/22\",\"price\":40,\"category\":\"provision\",\"quan\":50},\n",
    "         1029:{\"name\":\"souce\",\"expire\":\"02/22\",\"price\":50,\"category\":\"provision\",\"quan\":50},\n",
    "         1030:{\"name\":\"pasta\",\"expire\":\"02/22\",\"price\":50,\"category\":\"provision\",\"quan\":50},\n",
    "         1031:{\"name\":\"noodels\",\"expire\":\"02/22\",\"price\":40,\"category\":\"chocolate\",\"quan\":50},}"
   ]
  },
  {
   "cell_type": "code",
   "execution_count": 2,
   "metadata": {},
   "outputs": [
    {
     "data": {
      "text/plain": [
       "{'name': 'mars',\n",
       " 'expire': '02/22',\n",
       " 'price': 45,\n",
       " 'category': 'chocolate',\n",
       " 'quan': 50}"
      ]
     },
     "execution_count": 2,
     "metadata": {},
     "output_type": "execute_result"
    }
   ],
   "source": [
    "record[1021]"
   ]
  },
  {
   "cell_type": "code",
   "execution_count": 3,
   "metadata": {},
   "outputs": [
    {
     "name": "stdout",
     "output_type": "stream",
     "text": [
      "milk powder\n",
      "02/22\n",
      "100\n",
      "provision\n",
      "50\n"
     ]
    }
   ],
   "source": [
    "reg=1015\n",
    "print(record[reg]['name'])\n",
    "print(record[reg]['expire'])\n",
    "print(record[reg]['price'])\n",
    "print(record[reg]['category'])\n",
    "print(record[reg]['quan'])"
   ]
  },
  {
   "cell_type": "code",
   "execution_count": 4,
   "metadata": {},
   "outputs": [],
   "source": [
    "import json"
   ]
  },
  {
   "cell_type": "code",
   "execution_count": 5,
   "metadata": {},
   "outputs": [],
   "source": [
    "js=json.dumps(record)"
   ]
  },
  {
   "cell_type": "code",
   "execution_count": 6,
   "metadata": {},
   "outputs": [
    {
     "data": {
      "text/plain": [
       "'{\"1000\": {\"name\": \"onion\", \"expire\": \"10/21\", \"price\": 30, \"category\": \"vegetable\", \"quan\": 100}, \"1001\": {\"name\": \"tomato\", \"expire\": \"10/21\", \"price\": 20, \"category\": \"vegetable\", \"quan\": 100}, \"1002\": {\"name\": \"potato\", \"expire\": \"10/21\", \"price\": 40, \"category\": \"vegetable\", \"quan\": 100}, \"1003\": {\"name\": \"milk\", \"expire\": \"10/21\", \"price\": 34, \"category\": \"diary\", \"quan\": 50}, \"1004\": {\"name\": \"curd\", \"expire\": \"10/21\", \"price\": 30, \"category\": \"diary\", \"quan\": 50}, \"1005\": {\"name\": \"chips\", \"expire\": \"12/21\", \"price\": 20, \"category\": \"snack\", \"quan\": 50}, \"1006\": {\"name\": \"bingo\", \"expire\": \"02/22\", \"price\": 10, \"category\": \"snack\", \"quan\": 50}, \"1007\": {\"name\": \"lays\", \"expire\": \"02/22\", \"price\": 20, \"category\": \"snack\", \"quan\": 50}, \"1008\": {\"name\": \"biscuits\", \"expire\": \"02/22\", \"price\": 25, \"category\": \"snack\", \"quan\": 100}, \"1009\": {\"name\": \"oil\", \"expire\": \"12/21\", \"price\": 100, \"category\": \"provision\", \"quan\": 50}, \"1010\": {\"name\": \"rice\", \"expire\": \"05/22\", \"price\": 50, \"category\": \"provision\", \"quan\": 100}, \"1011\": {\"name\": \"wheat\", \"expire\": \"05/22\", \"price\": 50, \"category\": \"provision\", \"quan\": 100}, \"1012\": {\"name\": \"sugar\", \"expire\": \"02/22\", \"price\": 50, \"category\": \"provision\", \"quan\": 100}, \"1013\": {\"name\": \"salt\", \"expire\": \"02/22\", \"price\": 50, \"category\": \"provision\", \"quan\": 100}, \"1014\": {\"name\": \"turmaric\", \"expire\": \"05/22\", \"price\": 60, \"category\": \"provision\", \"quan\": 50}, \"1015\": {\"name\": \"milk powder\", \"expire\": \"02/22\", \"price\": 100, \"category\": \"provision\", \"quan\": 50}, \"1016\": {\"name\": \"soap\", \"expire\": \"02/22\", \"price\": 32, \"category\": \"provision\", \"quan\": 100}, \"1017\": {\"name\": \"shampoo\", \"expire\": \"02/22\", \"price\": 100, \"category\": \"provision\", \"quan\": 50}, \"1018\": {\"name\": \"diary milk\", \"expire\": \"02/22\", \"price\": 20, \"category\": \"chocolate\", \"quan\": 50}, \"1019\": {\"name\": \"bar1\", \"expire\": \"02/22\", \"price\": 10, \"category\": \"chocolate\", \"quan\": 50}, \"1020\": {\"name\": \"fuse\", \"expire\": \"02/22\", \"price\": 20, \"category\": \"chocolate\", \"quan\": 50}, \"1021\": {\"name\": \"mars\", \"expire\": \"02/22\", \"price\": 45, \"category\": \"chocolate\", \"quan\": 50}, \"1022\": {\"name\": \"nuties\", \"expire\": \"02/22\", \"price\": 40, \"category\": \"chocolate\", \"quan\": 50}, \"1023\": {\"name\": \"temptation\", \"expire\": \"02/22\", \"price\": 99, \"category\": \"chocolate\", \"quan\": 50}, \"1024\": {\"name\": \"silk\", \"expire\": \"02/22\", \"price\": 60, \"category\": \"chocolate\", \"quan\": 50}, \"1025\": {\"name\": \"5star\", \"expire\": \"02/22\", \"price\": 20, \"category\": \"chocolate\", \"quan\": 50}, \"1026\": {\"name\": \"juice\", \"expire\": \"02/22\", \"price\": 20, \"category\": \"snack\", \"quan\": 100}, \"1027\": {\"name\": \"corn flour\", \"expire\": \"02/22\", \"price\": 50, \"category\": \"provision\", \"quan\": 50}, \"1028\": {\"name\": \"mida\", \"expire\": \"02/22\", \"price\": 40, \"category\": \"provision\", \"quan\": 50}, \"1029\": {\"name\": \"souce\", \"expire\": \"02/22\", \"price\": 50, \"category\": \"provision\", \"quan\": 50}, \"1030\": {\"name\": \"pasta\", \"expire\": \"02/22\", \"price\": 50, \"category\": \"provision\", \"quan\": 50}, \"1031\": {\"name\": \"noodels\", \"expire\": \"02/22\", \"price\": 40, \"category\": \"chocolate\", \"quan\": 50}}'"
      ]
     },
     "execution_count": 6,
     "metadata": {},
     "output_type": "execute_result"
    }
   ],
   "source": [
    "js"
   ]
  },
  {
   "cell_type": "code",
   "execution_count": 7,
   "metadata": {},
   "outputs": [
    {
     "data": {
      "text/plain": [
       "{1000: {'name': 'onion',\n",
       "  'expire': '10/21',\n",
       "  'price': 30,\n",
       "  'category': 'vegetable',\n",
       "  'quan': 100},\n",
       " 1001: {'name': 'tomato',\n",
       "  'expire': '10/21',\n",
       "  'price': 20,\n",
       "  'category': 'vegetable',\n",
       "  'quan': 100},\n",
       " 1002: {'name': 'potato',\n",
       "  'expire': '10/21',\n",
       "  'price': 40,\n",
       "  'category': 'vegetable',\n",
       "  'quan': 100},\n",
       " 1003: {'name': 'milk',\n",
       "  'expire': '10/21',\n",
       "  'price': 34,\n",
       "  'category': 'diary',\n",
       "  'quan': 50},\n",
       " 1004: {'name': 'curd',\n",
       "  'expire': '10/21',\n",
       "  'price': 30,\n",
       "  'category': 'diary',\n",
       "  'quan': 50},\n",
       " 1005: {'name': 'chips',\n",
       "  'expire': '12/21',\n",
       "  'price': 20,\n",
       "  'category': 'snack',\n",
       "  'quan': 50},\n",
       " 1006: {'name': 'bingo',\n",
       "  'expire': '02/22',\n",
       "  'price': 10,\n",
       "  'category': 'snack',\n",
       "  'quan': 50},\n",
       " 1007: {'name': 'lays',\n",
       "  'expire': '02/22',\n",
       "  'price': 20,\n",
       "  'category': 'snack',\n",
       "  'quan': 50},\n",
       " 1008: {'name': 'biscuits',\n",
       "  'expire': '02/22',\n",
       "  'price': 25,\n",
       "  'category': 'snack',\n",
       "  'quan': 100},\n",
       " 1009: {'name': 'oil',\n",
       "  'expire': '12/21',\n",
       "  'price': 100,\n",
       "  'category': 'provision',\n",
       "  'quan': 50},\n",
       " 1010: {'name': 'rice',\n",
       "  'expire': '05/22',\n",
       "  'price': 50,\n",
       "  'category': 'provision',\n",
       "  'quan': 100},\n",
       " 1011: {'name': 'wheat',\n",
       "  'expire': '05/22',\n",
       "  'price': 50,\n",
       "  'category': 'provision',\n",
       "  'quan': 100},\n",
       " 1012: {'name': 'sugar',\n",
       "  'expire': '02/22',\n",
       "  'price': 50,\n",
       "  'category': 'provision',\n",
       "  'quan': 100},\n",
       " 1013: {'name': 'salt',\n",
       "  'expire': '02/22',\n",
       "  'price': 50,\n",
       "  'category': 'provision',\n",
       "  'quan': 100},\n",
       " 1014: {'name': 'turmaric',\n",
       "  'expire': '05/22',\n",
       "  'price': 60,\n",
       "  'category': 'provision',\n",
       "  'quan': 50},\n",
       " 1015: {'name': 'milk powder',\n",
       "  'expire': '02/22',\n",
       "  'price': 100,\n",
       "  'category': 'provision',\n",
       "  'quan': 50},\n",
       " 1016: {'name': 'soap',\n",
       "  'expire': '02/22',\n",
       "  'price': 32,\n",
       "  'category': 'provision',\n",
       "  'quan': 100},\n",
       " 1017: {'name': 'shampoo',\n",
       "  'expire': '02/22',\n",
       "  'price': 100,\n",
       "  'category': 'provision',\n",
       "  'quan': 50},\n",
       " 1018: {'name': 'diary milk',\n",
       "  'expire': '02/22',\n",
       "  'price': 20,\n",
       "  'category': 'chocolate',\n",
       "  'quan': 50},\n",
       " 1019: {'name': 'bar1',\n",
       "  'expire': '02/22',\n",
       "  'price': 10,\n",
       "  'category': 'chocolate',\n",
       "  'quan': 50},\n",
       " 1020: {'name': 'fuse',\n",
       "  'expire': '02/22',\n",
       "  'price': 20,\n",
       "  'category': 'chocolate',\n",
       "  'quan': 50},\n",
       " 1021: {'name': 'mars',\n",
       "  'expire': '02/22',\n",
       "  'price': 45,\n",
       "  'category': 'chocolate',\n",
       "  'quan': 50},\n",
       " 1022: {'name': 'nuties',\n",
       "  'expire': '02/22',\n",
       "  'price': 40,\n",
       "  'category': 'chocolate',\n",
       "  'quan': 50},\n",
       " 1023: {'name': 'temptation',\n",
       "  'expire': '02/22',\n",
       "  'price': 99,\n",
       "  'category': 'chocolate',\n",
       "  'quan': 50},\n",
       " 1024: {'name': 'silk',\n",
       "  'expire': '02/22',\n",
       "  'price': 60,\n",
       "  'category': 'chocolate',\n",
       "  'quan': 50},\n",
       " 1025: {'name': '5star',\n",
       "  'expire': '02/22',\n",
       "  'price': 20,\n",
       "  'category': 'chocolate',\n",
       "  'quan': 50},\n",
       " 1026: {'name': 'juice',\n",
       "  'expire': '02/22',\n",
       "  'price': 20,\n",
       "  'category': 'snack',\n",
       "  'quan': 100},\n",
       " 1027: {'name': 'corn flour',\n",
       "  'expire': '02/22',\n",
       "  'price': 50,\n",
       "  'category': 'provision',\n",
       "  'quan': 50},\n",
       " 1028: {'name': 'mida',\n",
       "  'expire': '02/22',\n",
       "  'price': 40,\n",
       "  'category': 'provision',\n",
       "  'quan': 50},\n",
       " 1029: {'name': 'souce',\n",
       "  'expire': '02/22',\n",
       "  'price': 50,\n",
       "  'category': 'provision',\n",
       "  'quan': 50},\n",
       " 1030: {'name': 'pasta',\n",
       "  'expire': '02/22',\n",
       "  'price': 50,\n",
       "  'category': 'provision',\n",
       "  'quan': 50},\n",
       " 1031: {'name': 'noodels',\n",
       "  'expire': '02/22',\n",
       "  'price': 40,\n",
       "  'category': 'chocolate',\n",
       "  'quan': 50}}"
      ]
     },
     "execution_count": 7,
     "metadata": {},
     "output_type": "execute_result"
    }
   ],
   "source": [
    "record"
   ]
  },
  {
   "cell_type": "code",
   "execution_count": 8,
   "metadata": {},
   "outputs": [
    {
     "data": {
      "text/plain": [
       "str"
      ]
     },
     "execution_count": 8,
     "metadata": {},
     "output_type": "execute_result"
    }
   ],
   "source": [
    "type(js)"
   ]
  },
  {
   "cell_type": "code",
   "execution_count": 9,
   "metadata": {},
   "outputs": [],
   "source": [
    "fd=open(\"record.json\",'w')\n",
    "fd.write(js)\n",
    "fd.close()"
   ]
  },
  {
   "cell_type": "code",
   "execution_count": 10,
   "metadata": {},
   "outputs": [],
   "source": [
    "fd=open(\"record.json\",'r')\n",
    "txt=fd.read()\n",
    "fd.close()"
   ]
  },
  {
   "cell_type": "raw",
   "metadata": {},
   "source": [
    "record=json.loads(txt)"
   ]
  },
  {
   "cell_type": "code",
   "execution_count": 25,
   "metadata": {},
   "outputs": [
    {
     "name": "stdout",
     "output_type": "stream",
     "text": [
      "Enter product id:1032\n",
      "Enter name:daal\n",
      "Enter expire:02/22\n",
      "Enter price:60\n",
      "Enter category:provision\n",
      "Enter quantity:100\n"
     ]
    }
   ],
   "source": [
    "prod_id= str(input(\"Enter product id:\"))\n",
    "name=str(input(\"Enter name:\"))\n",
    "expire=str(input(\"Enter expire:\"))\n",
    "price=int(input(\"Enter price:\"))\n",
    "category=str(input(\"Enter category:\"))\n",
    "quan=int(input(\"Enter quantity:\"))"
   ]
  },
  {
   "cell_type": "code",
   "execution_count": 26,
   "metadata": {},
   "outputs": [],
   "source": [
    "record[prod_id]={'name':name,'expire':expire,'price':price,'category':category,'quan':quan}"
   ]
  },
  {
   "cell_type": "code",
   "execution_count": 27,
   "metadata": {},
   "outputs": [
    {
     "data": {
      "text/plain": [
       "{'1000': {'name': 'onion',\n",
       "  'expire': '10/21',\n",
       "  'price': 30,\n",
       "  'category': 'vegetable',\n",
       "  'quan': 100},\n",
       " '1001': {'name': 'tomato',\n",
       "  'expire': '10/21',\n",
       "  'price': 20,\n",
       "  'category': 'vegetable',\n",
       "  'quan': 100},\n",
       " '1002': {'name': 'potato',\n",
       "  'expire': '10/21',\n",
       "  'price': 40,\n",
       "  'category': 'vegetable',\n",
       "  'quan': 100},\n",
       " '1003': {'name': 'milk',\n",
       "  'expire': '10/21',\n",
       "  'price': 34,\n",
       "  'category': 'diary',\n",
       "  'quan': 50},\n",
       " '1004': {'name': 'curd',\n",
       "  'expire': '10/21',\n",
       "  'price': 30,\n",
       "  'category': 'diary',\n",
       "  'quan': 50},\n",
       " '1005': {'name': 'chips',\n",
       "  'expire': '12/21',\n",
       "  'price': 20,\n",
       "  'category': 'snack',\n",
       "  'quan': 50},\n",
       " '1006': {'name': 'bingo',\n",
       "  'expire': '02/22',\n",
       "  'price': 10,\n",
       "  'category': 'snack',\n",
       "  'quan': 50},\n",
       " '1007': {'name': 'lays',\n",
       "  'expire': '02/22',\n",
       "  'price': 20,\n",
       "  'category': 'snack',\n",
       "  'quan': 50},\n",
       " '1008': {'name': 'biscuits',\n",
       "  'expire': '02/22',\n",
       "  'price': 25,\n",
       "  'category': 'snack',\n",
       "  'quan': 100},\n",
       " '1009': {'name': 'oil',\n",
       "  'expire': '12/21',\n",
       "  'price': 100,\n",
       "  'category': 'provision',\n",
       "  'quan': 50},\n",
       " '1010': {'name': 'rice',\n",
       "  'expire': '05/22',\n",
       "  'price': 50,\n",
       "  'category': 'provision',\n",
       "  'quan': 100},\n",
       " '1011': {'name': 'wheat',\n",
       "  'expire': '05/22',\n",
       "  'price': 50,\n",
       "  'category': 'provision',\n",
       "  'quan': 100},\n",
       " '1012': {'name': 'sugar',\n",
       "  'expire': '02/22',\n",
       "  'price': 50,\n",
       "  'category': 'provision',\n",
       "  'quan': 100},\n",
       " '1013': {'name': 'salt',\n",
       "  'expire': '02/22',\n",
       "  'price': 50,\n",
       "  'category': 'provision',\n",
       "  'quan': 100},\n",
       " '1014': {'name': 'turmaric',\n",
       "  'expire': '05/22',\n",
       "  'price': 60,\n",
       "  'category': 'provision',\n",
       "  'quan': 50},\n",
       " '1015': {'name': 'milk powder',\n",
       "  'expire': '02/22',\n",
       "  'price': 100,\n",
       "  'category': 'provision',\n",
       "  'quan': 50},\n",
       " '1016': {'name': 'soap',\n",
       "  'expire': '02/22',\n",
       "  'price': 32,\n",
       "  'category': 'provision',\n",
       "  'quan': 100},\n",
       " '1017': {'name': 'shampoo',\n",
       "  'expire': '02/22',\n",
       "  'price': 100,\n",
       "  'category': 'provision',\n",
       "  'quan': 50},\n",
       " '1018': {'name': 'diary milk',\n",
       "  'expire': '02/22',\n",
       "  'price': 20,\n",
       "  'category': 'chocolate',\n",
       "  'quan': 50},\n",
       " '1019': {'name': 'bar1',\n",
       "  'expire': '02/22',\n",
       "  'price': 10,\n",
       "  'category': 'chocolate',\n",
       "  'quan': 50},\n",
       " '1020': {'name': 'fuse',\n",
       "  'expire': '02/22',\n",
       "  'price': 20,\n",
       "  'category': 'chocolate',\n",
       "  'quan': 50},\n",
       " '1021': {'name': 'mars',\n",
       "  'expire': '02/22',\n",
       "  'price': 45,\n",
       "  'category': 'chocolate',\n",
       "  'quan': 50},\n",
       " '1022': {'name': 'nuties',\n",
       "  'expire': '02/22',\n",
       "  'price': 40,\n",
       "  'category': 'chocolate',\n",
       "  'quan': 50},\n",
       " '1023': {'name': 'temptation',\n",
       "  'expire': '02/22',\n",
       "  'price': 99,\n",
       "  'category': 'chocolate',\n",
       "  'quan': 50},\n",
       " '1024': {'name': 'silk',\n",
       "  'expire': '02/22',\n",
       "  'price': 60,\n",
       "  'category': 'chocolate',\n",
       "  'quan': 50},\n",
       " '1025': {'name': '5star',\n",
       "  'expire': '02/22',\n",
       "  'price': 20,\n",
       "  'category': 'chocolate',\n",
       "  'quan': 50},\n",
       " '1026': {'name': 'juice',\n",
       "  'expire': '02/22',\n",
       "  'price': 20,\n",
       "  'category': 'snack',\n",
       "  'quan': 100},\n",
       " '1027': {'name': 'corn flour',\n",
       "  'expire': '02/22',\n",
       "  'price': 50,\n",
       "  'category': 'provision',\n",
       "  'quan': 50},\n",
       " '1028': {'name': 'mida',\n",
       "  'expire': '02/22',\n",
       "  'price': 40,\n",
       "  'category': 'provision',\n",
       "  'quan': 50},\n",
       " '1029': {'name': 'souce',\n",
       "  'expire': '02/22',\n",
       "  'price': 50,\n",
       "  'category': 'provision',\n",
       "  'quan': 50},\n",
       " '1030': {'name': 'pasta',\n",
       "  'expire': '02/22',\n",
       "  'price': 50,\n",
       "  'category': 'provision',\n",
       "  'quan': 50},\n",
       " '1031': {'name': 'noodels',\n",
       "  'expire': '02/22',\n",
       "  'price': 40,\n",
       "  'category': 'chocolate',\n",
       "  'quan': 50},\n",
       " '1032': {'name': 'daal',\n",
       "  'expire': '02/22',\n",
       "  'price': 60,\n",
       "  'category': 'provision',\n",
       "  'quan': 100}}"
      ]
     },
     "execution_count": 27,
     "metadata": {},
     "output_type": "execute_result"
    }
   ],
   "source": [
    "record"
   ]
  },
  {
   "cell_type": "code",
   "execution_count": 28,
   "metadata": {},
   "outputs": [
    {
     "name": "stdout",
     "output_type": "stream",
     "text": [
      "Enter product id:1033\n",
      "Enter name:orange\n",
      "Enter expire:10/21\n",
      "Enter price:60\n",
      "Enter category:fruit\n",
      "Enter quantity:100\n"
     ]
    }
   ],
   "source": [
    "prod_id= str(input(\"Enter product id:\"))\n",
    "name=str(input(\"Enter name:\"))\n",
    "expire=str(input(\"Enter expire:\"))\n",
    "price=int(input(\"Enter price:\"))\n",
    "category=str(input(\"Enter category:\"))\n",
    "quan=int(input(\"Enter quantity:\"))\n",
    "record[prod_id]={'name':name,'expire':expire,'price':price,'category':category,'quan':quan}"
   ]
  },
  {
   "cell_type": "code",
   "execution_count": 29,
   "metadata": {
    "scrolled": false
   },
   "outputs": [
    {
     "data": {
      "text/plain": [
       "{'1000': {'name': 'onion',\n",
       "  'expire': '10/21',\n",
       "  'price': 30,\n",
       "  'category': 'vegetable',\n",
       "  'quan': 100},\n",
       " '1001': {'name': 'tomato',\n",
       "  'expire': '10/21',\n",
       "  'price': 20,\n",
       "  'category': 'vegetable',\n",
       "  'quan': 100},\n",
       " '1002': {'name': 'potato',\n",
       "  'expire': '10/21',\n",
       "  'price': 40,\n",
       "  'category': 'vegetable',\n",
       "  'quan': 100},\n",
       " '1003': {'name': 'milk',\n",
       "  'expire': '10/21',\n",
       "  'price': 34,\n",
       "  'category': 'diary',\n",
       "  'quan': 50},\n",
       " '1004': {'name': 'curd',\n",
       "  'expire': '10/21',\n",
       "  'price': 30,\n",
       "  'category': 'diary',\n",
       "  'quan': 50},\n",
       " '1005': {'name': 'chips',\n",
       "  'expire': '12/21',\n",
       "  'price': 20,\n",
       "  'category': 'snack',\n",
       "  'quan': 50},\n",
       " '1006': {'name': 'bingo',\n",
       "  'expire': '02/22',\n",
       "  'price': 10,\n",
       "  'category': 'snack',\n",
       "  'quan': 50},\n",
       " '1007': {'name': 'lays',\n",
       "  'expire': '02/22',\n",
       "  'price': 20,\n",
       "  'category': 'snack',\n",
       "  'quan': 50},\n",
       " '1008': {'name': 'biscuits',\n",
       "  'expire': '02/22',\n",
       "  'price': 25,\n",
       "  'category': 'snack',\n",
       "  'quan': 100},\n",
       " '1009': {'name': 'oil',\n",
       "  'expire': '12/21',\n",
       "  'price': 100,\n",
       "  'category': 'provision',\n",
       "  'quan': 50},\n",
       " '1010': {'name': 'rice',\n",
       "  'expire': '05/22',\n",
       "  'price': 50,\n",
       "  'category': 'provision',\n",
       "  'quan': 100},\n",
       " '1011': {'name': 'wheat',\n",
       "  'expire': '05/22',\n",
       "  'price': 50,\n",
       "  'category': 'provision',\n",
       "  'quan': 100},\n",
       " '1012': {'name': 'sugar',\n",
       "  'expire': '02/22',\n",
       "  'price': 50,\n",
       "  'category': 'provision',\n",
       "  'quan': 100},\n",
       " '1013': {'name': 'salt',\n",
       "  'expire': '02/22',\n",
       "  'price': 50,\n",
       "  'category': 'provision',\n",
       "  'quan': 100},\n",
       " '1014': {'name': 'turmaric',\n",
       "  'expire': '05/22',\n",
       "  'price': 60,\n",
       "  'category': 'provision',\n",
       "  'quan': 50},\n",
       " '1015': {'name': 'milk powder',\n",
       "  'expire': '02/22',\n",
       "  'price': 100,\n",
       "  'category': 'provision',\n",
       "  'quan': 50},\n",
       " '1016': {'name': 'soap',\n",
       "  'expire': '02/22',\n",
       "  'price': 32,\n",
       "  'category': 'provision',\n",
       "  'quan': 100},\n",
       " '1017': {'name': 'shampoo',\n",
       "  'expire': '02/22',\n",
       "  'price': 100,\n",
       "  'category': 'provision',\n",
       "  'quan': 50},\n",
       " '1018': {'name': 'diary milk',\n",
       "  'expire': '02/22',\n",
       "  'price': 20,\n",
       "  'category': 'chocolate',\n",
       "  'quan': 50},\n",
       " '1019': {'name': 'bar1',\n",
       "  'expire': '02/22',\n",
       "  'price': 10,\n",
       "  'category': 'chocolate',\n",
       "  'quan': 50},\n",
       " '1020': {'name': 'fuse',\n",
       "  'expire': '02/22',\n",
       "  'price': 20,\n",
       "  'category': 'chocolate',\n",
       "  'quan': 50},\n",
       " '1021': {'name': 'mars',\n",
       "  'expire': '02/22',\n",
       "  'price': 45,\n",
       "  'category': 'chocolate',\n",
       "  'quan': 50},\n",
       " '1022': {'name': 'nuties',\n",
       "  'expire': '02/22',\n",
       "  'price': 40,\n",
       "  'category': 'chocolate',\n",
       "  'quan': 50},\n",
       " '1023': {'name': 'temptation',\n",
       "  'expire': '02/22',\n",
       "  'price': 99,\n",
       "  'category': 'chocolate',\n",
       "  'quan': 50},\n",
       " '1024': {'name': 'silk',\n",
       "  'expire': '02/22',\n",
       "  'price': 60,\n",
       "  'category': 'chocolate',\n",
       "  'quan': 50},\n",
       " '1025': {'name': '5star',\n",
       "  'expire': '02/22',\n",
       "  'price': 20,\n",
       "  'category': 'chocolate',\n",
       "  'quan': 50},\n",
       " '1026': {'name': 'juice',\n",
       "  'expire': '02/22',\n",
       "  'price': 20,\n",
       "  'category': 'snack',\n",
       "  'quan': 100},\n",
       " '1027': {'name': 'corn flour',\n",
       "  'expire': '02/22',\n",
       "  'price': 50,\n",
       "  'category': 'provision',\n",
       "  'quan': 50},\n",
       " '1028': {'name': 'mida',\n",
       "  'expire': '02/22',\n",
       "  'price': 40,\n",
       "  'category': 'provision',\n",
       "  'quan': 50},\n",
       " '1029': {'name': 'souce',\n",
       "  'expire': '02/22',\n",
       "  'price': 50,\n",
       "  'category': 'provision',\n",
       "  'quan': 50},\n",
       " '1030': {'name': 'pasta',\n",
       "  'expire': '02/22',\n",
       "  'price': 50,\n",
       "  'category': 'provision',\n",
       "  'quan': 50},\n",
       " '1031': {'name': 'noodels',\n",
       "  'expire': '02/22',\n",
       "  'price': 40,\n",
       "  'category': 'chocolate',\n",
       "  'quan': 50},\n",
       " '1032': {'name': 'daal',\n",
       "  'expire': '02/22',\n",
       "  'price': 60,\n",
       "  'category': 'provision',\n",
       "  'quan': 100},\n",
       " '1033': {'name': 'orange',\n",
       "  'expire': '10/21',\n",
       "  'price': 60,\n",
       "  'category': 'fruit',\n",
       "  'quan': 100}}"
      ]
     },
     "execution_count": 29,
     "metadata": {},
     "output_type": "execute_result"
    }
   ],
   "source": [
    "record"
   ]
  },
  {
   "cell_type": "code",
   "execution_count": 30,
   "metadata": {},
   "outputs": [],
   "source": [
    "import json"
   ]
  },
  {
   "cell_type": "code",
   "execution_count": 31,
   "metadata": {},
   "outputs": [],
   "source": [
    "js=json.dumps(record)"
   ]
  },
  {
   "cell_type": "code",
   "execution_count": 32,
   "metadata": {},
   "outputs": [
    {
     "data": {
      "text/plain": [
       "'{\"1000\": {\"name\": \"onion\", \"expire\": \"10/21\", \"price\": 30, \"category\": \"vegetable\", \"quan\": 100}, \"1001\": {\"name\": \"tomato\", \"expire\": \"10/21\", \"price\": 20, \"category\": \"vegetable\", \"quan\": 100}, \"1002\": {\"name\": \"potato\", \"expire\": \"10/21\", \"price\": 40, \"category\": \"vegetable\", \"quan\": 100}, \"1003\": {\"name\": \"milk\", \"expire\": \"10/21\", \"price\": 34, \"category\": \"diary\", \"quan\": 50}, \"1004\": {\"name\": \"curd\", \"expire\": \"10/21\", \"price\": 30, \"category\": \"diary\", \"quan\": 50}, \"1005\": {\"name\": \"chips\", \"expire\": \"12/21\", \"price\": 20, \"category\": \"snack\", \"quan\": 50}, \"1006\": {\"name\": \"bingo\", \"expire\": \"02/22\", \"price\": 10, \"category\": \"snack\", \"quan\": 50}, \"1007\": {\"name\": \"lays\", \"expire\": \"02/22\", \"price\": 20, \"category\": \"snack\", \"quan\": 50}, \"1008\": {\"name\": \"biscuits\", \"expire\": \"02/22\", \"price\": 25, \"category\": \"snack\", \"quan\": 100}, \"1009\": {\"name\": \"oil\", \"expire\": \"12/21\", \"price\": 100, \"category\": \"provision\", \"quan\": 50}, \"1010\": {\"name\": \"rice\", \"expire\": \"05/22\", \"price\": 50, \"category\": \"provision\", \"quan\": 100}, \"1011\": {\"name\": \"wheat\", \"expire\": \"05/22\", \"price\": 50, \"category\": \"provision\", \"quan\": 100}, \"1012\": {\"name\": \"sugar\", \"expire\": \"02/22\", \"price\": 50, \"category\": \"provision\", \"quan\": 100}, \"1013\": {\"name\": \"salt\", \"expire\": \"02/22\", \"price\": 50, \"category\": \"provision\", \"quan\": 100}, \"1014\": {\"name\": \"turmaric\", \"expire\": \"05/22\", \"price\": 60, \"category\": \"provision\", \"quan\": 50}, \"1015\": {\"name\": \"milk powder\", \"expire\": \"02/22\", \"price\": 100, \"category\": \"provision\", \"quan\": 50}, \"1016\": {\"name\": \"soap\", \"expire\": \"02/22\", \"price\": 32, \"category\": \"provision\", \"quan\": 100}, \"1017\": {\"name\": \"shampoo\", \"expire\": \"02/22\", \"price\": 100, \"category\": \"provision\", \"quan\": 50}, \"1018\": {\"name\": \"diary milk\", \"expire\": \"02/22\", \"price\": 20, \"category\": \"chocolate\", \"quan\": 50}, \"1019\": {\"name\": \"bar1\", \"expire\": \"02/22\", \"price\": 10, \"category\": \"chocolate\", \"quan\": 50}, \"1020\": {\"name\": \"fuse\", \"expire\": \"02/22\", \"price\": 20, \"category\": \"chocolate\", \"quan\": 50}, \"1021\": {\"name\": \"mars\", \"expire\": \"02/22\", \"price\": 45, \"category\": \"chocolate\", \"quan\": 50}, \"1022\": {\"name\": \"nuties\", \"expire\": \"02/22\", \"price\": 40, \"category\": \"chocolate\", \"quan\": 50}, \"1023\": {\"name\": \"temptation\", \"expire\": \"02/22\", \"price\": 99, \"category\": \"chocolate\", \"quan\": 50}, \"1024\": {\"name\": \"silk\", \"expire\": \"02/22\", \"price\": 60, \"category\": \"chocolate\", \"quan\": 50}, \"1025\": {\"name\": \"5star\", \"expire\": \"02/22\", \"price\": 20, \"category\": \"chocolate\", \"quan\": 50}, \"1026\": {\"name\": \"juice\", \"expire\": \"02/22\", \"price\": 20, \"category\": \"snack\", \"quan\": 100}, \"1027\": {\"name\": \"corn flour\", \"expire\": \"02/22\", \"price\": 50, \"category\": \"provision\", \"quan\": 50}, \"1028\": {\"name\": \"mida\", \"expire\": \"02/22\", \"price\": 40, \"category\": \"provision\", \"quan\": 50}, \"1029\": {\"name\": \"souce\", \"expire\": \"02/22\", \"price\": 50, \"category\": \"provision\", \"quan\": 50}, \"1030\": {\"name\": \"pasta\", \"expire\": \"02/22\", \"price\": 50, \"category\": \"provision\", \"quan\": 50}, \"1031\": {\"name\": \"noodels\", \"expire\": \"02/22\", \"price\": 40, \"category\": \"chocolate\", \"quan\": 50}, \"1032\": {\"name\": \"daal\", \"expire\": \"02/22\", \"price\": 60, \"category\": \"provision\", \"quan\": 100}, \"1033\": {\"name\": \"orange\", \"expire\": \"10/21\", \"price\": 60, \"category\": \"fruit\", \"quan\": 100}}'"
      ]
     },
     "execution_count": 32,
     "metadata": {},
     "output_type": "execute_result"
    }
   ],
   "source": [
    "js"
   ]
  },
  {
   "cell_type": "code",
   "execution_count": 33,
   "metadata": {},
   "outputs": [],
   "source": [
    "fd=open(\"record.json\",'w')\n",
    "fd.write(js)\n",
    "fd.close()"
   ]
  },
  {
   "cell_type": "code",
   "execution_count": 34,
   "metadata": {},
   "outputs": [],
   "source": [
    "fd=open(\"record.json\",'r')\n",
    "txt=fd.read()\n",
    "fd.close()"
   ]
  },
  {
   "cell_type": "code",
   "execution_count": 35,
   "metadata": {},
   "outputs": [],
   "source": [
    "record=json.loads(txt)"
   ]
  },
  {
   "cell_type": "code",
   "execution_count": null,
   "metadata": {},
   "outputs": [],
   "source": []
  }
 ],
 "metadata": {
  "kernelspec": {
   "display_name": "Python 3",
   "language": "python",
   "name": "python3"
  },
  "language_info": {
   "codemirror_mode": {
    "name": "ipython",
    "version": 3
   },
   "file_extension": ".py",
   "mimetype": "text/x-python",
   "name": "python",
   "nbconvert_exporter": "python",
   "pygments_lexer": "ipython3",
   "version": "3.7.4"
  }
 },
 "nbformat": 4,
 "nbformat_minor": 2
}
