{
 "cells": [
  {
   "cell_type": "markdown",
   "metadata": {},
   "source": [
    "# Purchase"
   ]
  },
  {
   "cell_type": "code",
   "execution_count": 216,
   "metadata": {},
   "outputs": [],
   "source": [
    "import json"
   ]
  },
  {
   "cell_type": "code",
   "execution_count": 217,
   "metadata": {},
   "outputs": [],
   "source": [
    "fd=open(\"record.json\",'r')\n",
    "txt=fd.read()\n",
    "fd.close()"
   ]
  },
  {
   "cell_type": "code",
   "execution_count": 218,
   "metadata": {},
   "outputs": [],
   "source": [
    "record=json.loads(txt)"
   ]
  },
  {
   "cell_type": "code",
   "execution_count": 219,
   "metadata": {},
   "outputs": [
    {
     "data": {
      "text/plain": [
       "{'1000': {'name': 'onion',\n",
       "  'expire': '10/21',\n",
       "  'price': 30,\n",
       "  'category': 'vegetable',\n",
       "  'quan': 100},\n",
       " '1001': {'name': 'tomato',\n",
       "  'expire': '10/21',\n",
       "  'price': 20,\n",
       "  'category': 'vegetable',\n",
       "  'quan': 94},\n",
       " '1002': {'name': 'potato',\n",
       "  'expire': '10/21',\n",
       "  'price': 40,\n",
       "  'category': 'vegetable',\n",
       "  'quan': 100},\n",
       " '1003': {'name': 'milk',\n",
       "  'expire': '10/21',\n",
       "  'price': 34,\n",
       "  'category': 'diary',\n",
       "  'quan': 50},\n",
       " '1004': {'name': 'curd',\n",
       "  'expire': '10/21',\n",
       "  'price': 30,\n",
       "  'category': 'diary',\n",
       "  'quan': 50},\n",
       " '1005': {'name': 'chips',\n",
       "  'expire': '12/21',\n",
       "  'price': 20,\n",
       "  'category': 'snack',\n",
       "  'quan': 50},\n",
       " '1006': {'name': 'bingo',\n",
       "  'expire': '02/22',\n",
       "  'price': 10,\n",
       "  'category': 'snack',\n",
       "  'quan': 50},\n",
       " '1007': {'name': 'lays',\n",
       "  'expire': '02/22',\n",
       "  'price': 20,\n",
       "  'category': 'snack',\n",
       "  'quan': 50},\n",
       " '1008': {'name': 'biscuits',\n",
       "  'expire': '02/22',\n",
       "  'price': 25,\n",
       "  'category': 'snack',\n",
       "  'quan': 100},\n",
       " '1009': {'name': 'oil',\n",
       "  'expire': '12/21',\n",
       "  'price': 100,\n",
       "  'category': 'provision',\n",
       "  'quan': 50},\n",
       " '1010': {'name': 'rice',\n",
       "  'expire': '05/22',\n",
       "  'price': 50,\n",
       "  'category': 'provision',\n",
       "  'quan': 100},\n",
       " '1011': {'name': 'wheat',\n",
       "  'expire': '05/22',\n",
       "  'price': 50,\n",
       "  'category': 'provision',\n",
       "  'quan': -200},\n",
       " '1012': {'name': 'sugar',\n",
       "  'expire': '02/22',\n",
       "  'price': 50,\n",
       "  'category': 'provision',\n",
       "  'quan': 100},\n",
       " '1013': {'name': 'salt',\n",
       "  'expire': '02/22',\n",
       "  'price': 50,\n",
       "  'category': 'provision',\n",
       "  'quan': 100},\n",
       " '1014': {'name': 'turmaric',\n",
       "  'expire': '05/22',\n",
       "  'price': 60,\n",
       "  'category': 'provision',\n",
       "  'quan': 50},\n",
       " '1015': {'name': 'milk powder',\n",
       "  'expire': '02/22',\n",
       "  'price': 100,\n",
       "  'category': 'provision',\n",
       "  'quan': 50},\n",
       " '1016': {'name': 'soap',\n",
       "  'expire': '02/22',\n",
       "  'price': 32,\n",
       "  'category': 'provision',\n",
       "  'quan': 100},\n",
       " '1017': {'name': 'shampoo',\n",
       "  'expire': '02/22',\n",
       "  'price': 100,\n",
       "  'category': 'provision',\n",
       "  'quan': 50},\n",
       " '1018': {'name': 'diary milk',\n",
       "  'expire': '02/22',\n",
       "  'price': 20,\n",
       "  'category': 'chocolate',\n",
       "  'quan': 50},\n",
       " '1019': {'name': 'bar1',\n",
       "  'expire': '02/22',\n",
       "  'price': 10,\n",
       "  'category': 'chocolate',\n",
       "  'quan': 50},\n",
       " '1020': {'name': 'fuse',\n",
       "  'expire': '02/22',\n",
       "  'price': 20,\n",
       "  'category': 'chocolate',\n",
       "  'quan': 50},\n",
       " '1021': {'name': 'mars',\n",
       "  'expire': '02/22',\n",
       "  'price': 45,\n",
       "  'category': 'chocolate',\n",
       "  'quan': 50},\n",
       " '1022': {'name': 'nuties',\n",
       "  'expire': '02/22',\n",
       "  'price': 40,\n",
       "  'category': 'chocolate',\n",
       "  'quan': 50},\n",
       " '1023': {'name': 'temptation',\n",
       "  'expire': '02/22',\n",
       "  'price': 99,\n",
       "  'category': 'chocolate',\n",
       "  'quan': 50},\n",
       " '1024': {'name': 'silk',\n",
       "  'expire': '02/22',\n",
       "  'price': 60,\n",
       "  'category': 'chocolate',\n",
       "  'quan': 50},\n",
       " '1025': {'name': '5star',\n",
       "  'expire': '02/22',\n",
       "  'price': 20,\n",
       "  'category': 'chocolate',\n",
       "  'quan': 50},\n",
       " '1026': {'name': 'juice',\n",
       "  'expire': '02/22',\n",
       "  'price': 20,\n",
       "  'category': 'snack',\n",
       "  'quan': 100},\n",
       " '1027': {'name': 'corn flour',\n",
       "  'expire': '02/22',\n",
       "  'price': 50,\n",
       "  'category': 'provision',\n",
       "  'quan': 50},\n",
       " '1028': {'name': 'mida',\n",
       "  'expire': '02/22',\n",
       "  'price': 40,\n",
       "  'category': 'provision',\n",
       "  'quan': 50},\n",
       " '1029': {'name': 'souce',\n",
       "  'expire': '02/22',\n",
       "  'price': 50,\n",
       "  'category': 'provision',\n",
       "  'quan': 50},\n",
       " '1030': {'name': 'pasta',\n",
       "  'expire': '02/22',\n",
       "  'price': 50,\n",
       "  'category': 'provision',\n",
       "  'quan': 96},\n",
       " '1031': {'name': 'noodels',\n",
       "  'expire': '02/22',\n",
       "  'price': 40,\n",
       "  'category': 'chocolate',\n",
       "  'quan': 50},\n",
       " '1032': {'name': 'daal',\n",
       "  'expire': '02/22',\n",
       "  'price': 60,\n",
       "  'category': 'provision',\n",
       "  'quan': 100},\n",
       " '1033': {'name': 'orange',\n",
       "  'expire': '10/21',\n",
       "  'price': 60,\n",
       "  'category': 'fruit',\n",
       "  'quan': 100}}"
      ]
     },
     "execution_count": 219,
     "metadata": {},
     "output_type": "execute_result"
    }
   ],
   "source": [
    "record"
   ]
  },
  {
   "cell_type": "code",
   "execution_count": 220,
   "metadata": {},
   "outputs": [
    {
     "name": "stdout",
     "output_type": "stream",
     "text": [
      "Enter the product_id: 1030\n",
      "Enter the quantity: 1\n"
     ]
    }
   ],
   "source": [
    "ui_prod  = str(input(\"Enter the product_id: \"))\n",
    "ui_quan = int(input(\"Enter the quantity: \"))\n"
   ]
  },
  {
   "cell_type": "code",
   "execution_count": 221,
   "metadata": {},
   "outputs": [
    {
     "data": {
      "text/plain": [
       "{'name': 'pasta',\n",
       " 'expire': '02/22',\n",
       " 'price': 50,\n",
       " 'category': 'provision',\n",
       " 'quan': 96}"
      ]
     },
     "execution_count": 221,
     "metadata": {},
     "output_type": "execute_result"
    }
   ],
   "source": [
    "record[ui_prod]"
   ]
  },
  {
   "cell_type": "code",
   "execution_count": 222,
   "metadata": {},
   "outputs": [
    {
     "data": {
      "text/plain": [
       "96"
      ]
     },
     "execution_count": 222,
     "metadata": {},
     "output_type": "execute_result"
    }
   ],
   "source": [
    "record[ui_prod]['quan']"
   ]
  },
  {
   "cell_type": "code",
   "execution_count": 223,
   "metadata": {},
   "outputs": [
    {
     "data": {
      "text/plain": [
       "(1, 96)"
      ]
     },
     "execution_count": 223,
     "metadata": {},
     "output_type": "execute_result"
    }
   ],
   "source": [
    "ui_quan,record[ui_prod]['quan']"
   ]
  },
  {
   "cell_type": "code",
   "execution_count": 224,
   "metadata": {},
   "outputs": [
    {
     "data": {
      "text/plain": [
       "50"
      ]
     },
     "execution_count": 224,
     "metadata": {},
     "output_type": "execute_result"
    }
   ],
   "source": [
    "record[ui_prod]['price']*ui_quan"
   ]
  },
  {
   "cell_type": "code",
   "execution_count": 225,
   "metadata": {},
   "outputs": [
    {
     "name": "stdout",
     "output_type": "stream",
     "text": [
      "Enter the product_id: 1007\n",
      "Enter the quantity: 2\n",
      "Product: lays\n",
      "Price: 20\n",
      "Billing Amount: 20\n"
     ]
    }
   ],
   "source": [
    "ui_prod  = str(input(\"Enter the product_id: \"))\n",
    "ui_quant = int(input(\"Enter the quantity: \"))\n",
    "print(\"Product:\",record[ui_prod]['name'])\n",
    "print(\"Price:\",record[ui_prod]['price'])\n",
    "print(\"Billing Amount:\",record[ui_prod]['price']*ui_quan)\n",
    "record[ui_prod]['quan'] = record[ui_prod]['quan'] - ui_quan"
   ]
  },
  {
   "cell_type": "code",
   "execution_count": 226,
   "metadata": {},
   "outputs": [
    {
     "data": {
      "text/plain": [
       "{'1000': {'name': 'onion',\n",
       "  'expire': '10/21',\n",
       "  'price': 30,\n",
       "  'category': 'vegetable',\n",
       "  'quan': 100},\n",
       " '1001': {'name': 'tomato',\n",
       "  'expire': '10/21',\n",
       "  'price': 20,\n",
       "  'category': 'vegetable',\n",
       "  'quan': 94},\n",
       " '1002': {'name': 'potato',\n",
       "  'expire': '10/21',\n",
       "  'price': 40,\n",
       "  'category': 'vegetable',\n",
       "  'quan': 100},\n",
       " '1003': {'name': 'milk',\n",
       "  'expire': '10/21',\n",
       "  'price': 34,\n",
       "  'category': 'diary',\n",
       "  'quan': 50},\n",
       " '1004': {'name': 'curd',\n",
       "  'expire': '10/21',\n",
       "  'price': 30,\n",
       "  'category': 'diary',\n",
       "  'quan': 50},\n",
       " '1005': {'name': 'chips',\n",
       "  'expire': '12/21',\n",
       "  'price': 20,\n",
       "  'category': 'snack',\n",
       "  'quan': 50},\n",
       " '1006': {'name': 'bingo',\n",
       "  'expire': '02/22',\n",
       "  'price': 10,\n",
       "  'category': 'snack',\n",
       "  'quan': 50},\n",
       " '1007': {'name': 'lays',\n",
       "  'expire': '02/22',\n",
       "  'price': 20,\n",
       "  'category': 'snack',\n",
       "  'quan': 49},\n",
       " '1008': {'name': 'biscuits',\n",
       "  'expire': '02/22',\n",
       "  'price': 25,\n",
       "  'category': 'snack',\n",
       "  'quan': 100},\n",
       " '1009': {'name': 'oil',\n",
       "  'expire': '12/21',\n",
       "  'price': 100,\n",
       "  'category': 'provision',\n",
       "  'quan': 50},\n",
       " '1010': {'name': 'rice',\n",
       "  'expire': '05/22',\n",
       "  'price': 50,\n",
       "  'category': 'provision',\n",
       "  'quan': 100},\n",
       " '1011': {'name': 'wheat',\n",
       "  'expire': '05/22',\n",
       "  'price': 50,\n",
       "  'category': 'provision',\n",
       "  'quan': -200},\n",
       " '1012': {'name': 'sugar',\n",
       "  'expire': '02/22',\n",
       "  'price': 50,\n",
       "  'category': 'provision',\n",
       "  'quan': 100},\n",
       " '1013': {'name': 'salt',\n",
       "  'expire': '02/22',\n",
       "  'price': 50,\n",
       "  'category': 'provision',\n",
       "  'quan': 100},\n",
       " '1014': {'name': 'turmaric',\n",
       "  'expire': '05/22',\n",
       "  'price': 60,\n",
       "  'category': 'provision',\n",
       "  'quan': 50},\n",
       " '1015': {'name': 'milk powder',\n",
       "  'expire': '02/22',\n",
       "  'price': 100,\n",
       "  'category': 'provision',\n",
       "  'quan': 50},\n",
       " '1016': {'name': 'soap',\n",
       "  'expire': '02/22',\n",
       "  'price': 32,\n",
       "  'category': 'provision',\n",
       "  'quan': 100},\n",
       " '1017': {'name': 'shampoo',\n",
       "  'expire': '02/22',\n",
       "  'price': 100,\n",
       "  'category': 'provision',\n",
       "  'quan': 50},\n",
       " '1018': {'name': 'diary milk',\n",
       "  'expire': '02/22',\n",
       "  'price': 20,\n",
       "  'category': 'chocolate',\n",
       "  'quan': 50},\n",
       " '1019': {'name': 'bar1',\n",
       "  'expire': '02/22',\n",
       "  'price': 10,\n",
       "  'category': 'chocolate',\n",
       "  'quan': 50},\n",
       " '1020': {'name': 'fuse',\n",
       "  'expire': '02/22',\n",
       "  'price': 20,\n",
       "  'category': 'chocolate',\n",
       "  'quan': 50},\n",
       " '1021': {'name': 'mars',\n",
       "  'expire': '02/22',\n",
       "  'price': 45,\n",
       "  'category': 'chocolate',\n",
       "  'quan': 50},\n",
       " '1022': {'name': 'nuties',\n",
       "  'expire': '02/22',\n",
       "  'price': 40,\n",
       "  'category': 'chocolate',\n",
       "  'quan': 50},\n",
       " '1023': {'name': 'temptation',\n",
       "  'expire': '02/22',\n",
       "  'price': 99,\n",
       "  'category': 'chocolate',\n",
       "  'quan': 50},\n",
       " '1024': {'name': 'silk',\n",
       "  'expire': '02/22',\n",
       "  'price': 60,\n",
       "  'category': 'chocolate',\n",
       "  'quan': 50},\n",
       " '1025': {'name': '5star',\n",
       "  'expire': '02/22',\n",
       "  'price': 20,\n",
       "  'category': 'chocolate',\n",
       "  'quan': 50},\n",
       " '1026': {'name': 'juice',\n",
       "  'expire': '02/22',\n",
       "  'price': 20,\n",
       "  'category': 'snack',\n",
       "  'quan': 100},\n",
       " '1027': {'name': 'corn flour',\n",
       "  'expire': '02/22',\n",
       "  'price': 50,\n",
       "  'category': 'provision',\n",
       "  'quan': 50},\n",
       " '1028': {'name': 'mida',\n",
       "  'expire': '02/22',\n",
       "  'price': 40,\n",
       "  'category': 'provision',\n",
       "  'quan': 50},\n",
       " '1029': {'name': 'souce',\n",
       "  'expire': '02/22',\n",
       "  'price': 50,\n",
       "  'category': 'provision',\n",
       "  'quan': 50},\n",
       " '1030': {'name': 'pasta',\n",
       "  'expire': '02/22',\n",
       "  'price': 50,\n",
       "  'category': 'provision',\n",
       "  'quan': 96},\n",
       " '1031': {'name': 'noodels',\n",
       "  'expire': '02/22',\n",
       "  'price': 40,\n",
       "  'category': 'chocolate',\n",
       "  'quan': 50},\n",
       " '1032': {'name': 'daal',\n",
       "  'expire': '02/22',\n",
       "  'price': 60,\n",
       "  'category': 'provision',\n",
       "  'quan': 100},\n",
       " '1033': {'name': 'orange',\n",
       "  'expire': '10/21',\n",
       "  'price': 60,\n",
       "  'category': 'fruit',\n",
       "  'quan': 100}}"
      ]
     },
     "execution_count": 226,
     "metadata": {},
     "output_type": "execute_result"
    }
   ],
   "source": [
    "record"
   ]
  },
  {
   "cell_type": "code",
   "execution_count": 228,
   "metadata": {},
   "outputs": [
    {
     "name": "stdout",
     "output_type": "stream",
     "text": [
      "Enter the product_id: 1009\n",
      "Enter the quantity: 1\n",
      "Product: oil\n",
      "Price: 100\n",
      "Billing Amount: 100\n"
     ]
    }
   ],
   "source": [
    "ui_prod  = str(input(\"Enter the product_id: \"))\n",
    "ui_quant = int(input(\"Enter the quantity: \"))\n",
    "print(\"Product:\",record[ui_prod]['name'])\n",
    "print(\"Price:\",record[ui_prod]['price'])\n",
    "print(\"Billing Amount:\",record[ui_prod]['price']*ui_quan)\n",
    "record[ui_prod]['quan'] = record[ui_prod]['quan'] - ui_quan"
   ]
  },
  {
   "cell_type": "code",
   "execution_count": 229,
   "metadata": {},
   "outputs": [
    {
     "data": {
      "text/plain": [
       "{'1000': {'name': 'onion',\n",
       "  'expire': '10/21',\n",
       "  'price': 30,\n",
       "  'category': 'vegetable',\n",
       "  'quan': 100},\n",
       " '1001': {'name': 'tomato',\n",
       "  'expire': '10/21',\n",
       "  'price': 20,\n",
       "  'category': 'vegetable',\n",
       "  'quan': 94},\n",
       " '1002': {'name': 'potato',\n",
       "  'expire': '10/21',\n",
       "  'price': 40,\n",
       "  'category': 'vegetable',\n",
       "  'quan': 100},\n",
       " '1003': {'name': 'milk',\n",
       "  'expire': '10/21',\n",
       "  'price': 34,\n",
       "  'category': 'diary',\n",
       "  'quan': 50},\n",
       " '1004': {'name': 'curd',\n",
       "  'expire': '10/21',\n",
       "  'price': 30,\n",
       "  'category': 'diary',\n",
       "  'quan': 50},\n",
       " '1005': {'name': 'chips',\n",
       "  'expire': '12/21',\n",
       "  'price': 20,\n",
       "  'category': 'snack',\n",
       "  'quan': 50},\n",
       " '1006': {'name': 'bingo',\n",
       "  'expire': '02/22',\n",
       "  'price': 10,\n",
       "  'category': 'snack',\n",
       "  'quan': 50},\n",
       " '1007': {'name': 'lays',\n",
       "  'expire': '02/22',\n",
       "  'price': 20,\n",
       "  'category': 'snack',\n",
       "  'quan': 49},\n",
       " '1008': {'name': 'biscuits',\n",
       "  'expire': '02/22',\n",
       "  'price': 25,\n",
       "  'category': 'snack',\n",
       "  'quan': 100},\n",
       " '1009': {'name': 'oil',\n",
       "  'expire': '12/21',\n",
       "  'price': 100,\n",
       "  'category': 'provision',\n",
       "  'quan': 48},\n",
       " '1010': {'name': 'rice',\n",
       "  'expire': '05/22',\n",
       "  'price': 50,\n",
       "  'category': 'provision',\n",
       "  'quan': 100},\n",
       " '1011': {'name': 'wheat',\n",
       "  'expire': '05/22',\n",
       "  'price': 50,\n",
       "  'category': 'provision',\n",
       "  'quan': -200},\n",
       " '1012': {'name': 'sugar',\n",
       "  'expire': '02/22',\n",
       "  'price': 50,\n",
       "  'category': 'provision',\n",
       "  'quan': 100},\n",
       " '1013': {'name': 'salt',\n",
       "  'expire': '02/22',\n",
       "  'price': 50,\n",
       "  'category': 'provision',\n",
       "  'quan': 100},\n",
       " '1014': {'name': 'turmaric',\n",
       "  'expire': '05/22',\n",
       "  'price': 60,\n",
       "  'category': 'provision',\n",
       "  'quan': 50},\n",
       " '1015': {'name': 'milk powder',\n",
       "  'expire': '02/22',\n",
       "  'price': 100,\n",
       "  'category': 'provision',\n",
       "  'quan': 50},\n",
       " '1016': {'name': 'soap',\n",
       "  'expire': '02/22',\n",
       "  'price': 32,\n",
       "  'category': 'provision',\n",
       "  'quan': 100},\n",
       " '1017': {'name': 'shampoo',\n",
       "  'expire': '02/22',\n",
       "  'price': 100,\n",
       "  'category': 'provision',\n",
       "  'quan': 50},\n",
       " '1018': {'name': 'diary milk',\n",
       "  'expire': '02/22',\n",
       "  'price': 20,\n",
       "  'category': 'chocolate',\n",
       "  'quan': 50},\n",
       " '1019': {'name': 'bar1',\n",
       "  'expire': '02/22',\n",
       "  'price': 10,\n",
       "  'category': 'chocolate',\n",
       "  'quan': 50},\n",
       " '1020': {'name': 'fuse',\n",
       "  'expire': '02/22',\n",
       "  'price': 20,\n",
       "  'category': 'chocolate',\n",
       "  'quan': 50},\n",
       " '1021': {'name': 'mars',\n",
       "  'expire': '02/22',\n",
       "  'price': 45,\n",
       "  'category': 'chocolate',\n",
       "  'quan': 50},\n",
       " '1022': {'name': 'nuties',\n",
       "  'expire': '02/22',\n",
       "  'price': 40,\n",
       "  'category': 'chocolate',\n",
       "  'quan': 50},\n",
       " '1023': {'name': 'temptation',\n",
       "  'expire': '02/22',\n",
       "  'price': 99,\n",
       "  'category': 'chocolate',\n",
       "  'quan': 50},\n",
       " '1024': {'name': 'silk',\n",
       "  'expire': '02/22',\n",
       "  'price': 60,\n",
       "  'category': 'chocolate',\n",
       "  'quan': 50},\n",
       " '1025': {'name': '5star',\n",
       "  'expire': '02/22',\n",
       "  'price': 20,\n",
       "  'category': 'chocolate',\n",
       "  'quan': 50},\n",
       " '1026': {'name': 'juice',\n",
       "  'expire': '02/22',\n",
       "  'price': 20,\n",
       "  'category': 'snack',\n",
       "  'quan': 100},\n",
       " '1027': {'name': 'corn flour',\n",
       "  'expire': '02/22',\n",
       "  'price': 50,\n",
       "  'category': 'provision',\n",
       "  'quan': 50},\n",
       " '1028': {'name': 'mida',\n",
       "  'expire': '02/22',\n",
       "  'price': 40,\n",
       "  'category': 'provision',\n",
       "  'quan': 50},\n",
       " '1029': {'name': 'souce',\n",
       "  'expire': '02/22',\n",
       "  'price': 50,\n",
       "  'category': 'provision',\n",
       "  'quan': 50},\n",
       " '1030': {'name': 'pasta',\n",
       "  'expire': '02/22',\n",
       "  'price': 50,\n",
       "  'category': 'provision',\n",
       "  'quan': 96},\n",
       " '1031': {'name': 'noodels',\n",
       "  'expire': '02/22',\n",
       "  'price': 40,\n",
       "  'category': 'chocolate',\n",
       "  'quan': 50},\n",
       " '1032': {'name': 'daal',\n",
       "  'expire': '02/22',\n",
       "  'price': 60,\n",
       "  'category': 'provision',\n",
       "  'quan': 100},\n",
       " '1033': {'name': 'orange',\n",
       "  'expire': '10/21',\n",
       "  'price': 60,\n",
       "  'category': 'fruit',\n",
       "  'quan': 100}}"
      ]
     },
     "execution_count": 229,
     "metadata": {},
     "output_type": "execute_result"
    }
   ],
   "source": [
    "record"
   ]
  },
  {
   "cell_type": "code",
   "execution_count": 230,
   "metadata": {},
   "outputs": [],
   "source": [
    "js=json.dumps(record)\n",
    "fd=open(\"record.json\",'w')\n",
    "fd.write(js)\n",
    "fd.close()"
   ]
  },
  {
   "cell_type": "code",
   "execution_count": 231,
   "metadata": {},
   "outputs": [],
   "source": [
    "fd=open(\"record.json\",'r')\n",
    "txt=fd.read()\n",
    "fd.close()"
   ]
  },
  {
   "cell_type": "code",
   "execution_count": 232,
   "metadata": {},
   "outputs": [
    {
     "data": {
      "text/plain": [
       "'{\"1000\": {\"name\": \"onion\", \"expire\": \"10/21\", \"price\": 30, \"category\": \"vegetable\", \"quan\": 100}, \"1001\": {\"name\": \"tomato\", \"expire\": \"10/21\", \"price\": 20, \"category\": \"vegetable\", \"quan\": 94}, \"1002\": {\"name\": \"potato\", \"expire\": \"10/21\", \"price\": 40, \"category\": \"vegetable\", \"quan\": 100}, \"1003\": {\"name\": \"milk\", \"expire\": \"10/21\", \"price\": 34, \"category\": \"diary\", \"quan\": 50}, \"1004\": {\"name\": \"curd\", \"expire\": \"10/21\", \"price\": 30, \"category\": \"diary\", \"quan\": 50}, \"1005\": {\"name\": \"chips\", \"expire\": \"12/21\", \"price\": 20, \"category\": \"snack\", \"quan\": 50}, \"1006\": {\"name\": \"bingo\", \"expire\": \"02/22\", \"price\": 10, \"category\": \"snack\", \"quan\": 50}, \"1007\": {\"name\": \"lays\", \"expire\": \"02/22\", \"price\": 20, \"category\": \"snack\", \"quan\": 49}, \"1008\": {\"name\": \"biscuits\", \"expire\": \"02/22\", \"price\": 25, \"category\": \"snack\", \"quan\": 100}, \"1009\": {\"name\": \"oil\", \"expire\": \"12/21\", \"price\": 100, \"category\": \"provision\", \"quan\": 48}, \"1010\": {\"name\": \"rice\", \"expire\": \"05/22\", \"price\": 50, \"category\": \"provision\", \"quan\": 100}, \"1011\": {\"name\": \"wheat\", \"expire\": \"05/22\", \"price\": 50, \"category\": \"provision\", \"quan\": -200}, \"1012\": {\"name\": \"sugar\", \"expire\": \"02/22\", \"price\": 50, \"category\": \"provision\", \"quan\": 100}, \"1013\": {\"name\": \"salt\", \"expire\": \"02/22\", \"price\": 50, \"category\": \"provision\", \"quan\": 100}, \"1014\": {\"name\": \"turmaric\", \"expire\": \"05/22\", \"price\": 60, \"category\": \"provision\", \"quan\": 50}, \"1015\": {\"name\": \"milk powder\", \"expire\": \"02/22\", \"price\": 100, \"category\": \"provision\", \"quan\": 50}, \"1016\": {\"name\": \"soap\", \"expire\": \"02/22\", \"price\": 32, \"category\": \"provision\", \"quan\": 100}, \"1017\": {\"name\": \"shampoo\", \"expire\": \"02/22\", \"price\": 100, \"category\": \"provision\", \"quan\": 50}, \"1018\": {\"name\": \"diary milk\", \"expire\": \"02/22\", \"price\": 20, \"category\": \"chocolate\", \"quan\": 50}, \"1019\": {\"name\": \"bar1\", \"expire\": \"02/22\", \"price\": 10, \"category\": \"chocolate\", \"quan\": 50}, \"1020\": {\"name\": \"fuse\", \"expire\": \"02/22\", \"price\": 20, \"category\": \"chocolate\", \"quan\": 50}, \"1021\": {\"name\": \"mars\", \"expire\": \"02/22\", \"price\": 45, \"category\": \"chocolate\", \"quan\": 50}, \"1022\": {\"name\": \"nuties\", \"expire\": \"02/22\", \"price\": 40, \"category\": \"chocolate\", \"quan\": 50}, \"1023\": {\"name\": \"temptation\", \"expire\": \"02/22\", \"price\": 99, \"category\": \"chocolate\", \"quan\": 50}, \"1024\": {\"name\": \"silk\", \"expire\": \"02/22\", \"price\": 60, \"category\": \"chocolate\", \"quan\": 50}, \"1025\": {\"name\": \"5star\", \"expire\": \"02/22\", \"price\": 20, \"category\": \"chocolate\", \"quan\": 50}, \"1026\": {\"name\": \"juice\", \"expire\": \"02/22\", \"price\": 20, \"category\": \"snack\", \"quan\": 100}, \"1027\": {\"name\": \"corn flour\", \"expire\": \"02/22\", \"price\": 50, \"category\": \"provision\", \"quan\": 50}, \"1028\": {\"name\": \"mida\", \"expire\": \"02/22\", \"price\": 40, \"category\": \"provision\", \"quan\": 50}, \"1029\": {\"name\": \"souce\", \"expire\": \"02/22\", \"price\": 50, \"category\": \"provision\", \"quan\": 50}, \"1030\": {\"name\": \"pasta\", \"expire\": \"02/22\", \"price\": 50, \"category\": \"provision\", \"quan\": 96}, \"1031\": {\"name\": \"noodels\", \"expire\": \"02/22\", \"price\": 40, \"category\": \"chocolate\", \"quan\": 50}, \"1032\": {\"name\": \"daal\", \"expire\": \"02/22\", \"price\": 60, \"category\": \"provision\", \"quan\": 100}, \"1033\": {\"name\": \"orange\", \"expire\": \"10/21\", \"price\": 60, \"category\": \"fruit\", \"quan\": 100}}'"
      ]
     },
     "execution_count": 232,
     "metadata": {},
     "output_type": "execute_result"
    }
   ],
   "source": [
    "txt"
   ]
  },
  {
   "cell_type": "markdown",
   "metadata": {},
   "source": [
    "# Billing"
   ]
  },
  {
   "cell_type": "code",
   "execution_count": 233,
   "metadata": {},
   "outputs": [],
   "source": [
    "import json"
   ]
  },
  {
   "cell_type": "code",
   "execution_count": 234,
   "metadata": {},
   "outputs": [],
   "source": [
    "fd=open(\"record.json\",'r')\n",
    "txt=fd.read()\n",
    "fd.close()"
   ]
  },
  {
   "cell_type": "code",
   "execution_count": 235,
   "metadata": {},
   "outputs": [],
   "source": [
    "record=json.loads(txt)"
   ]
  },
  {
   "cell_type": "code",
   "execution_count": 236,
   "metadata": {},
   "outputs": [
    {
     "data": {
      "text/plain": [
       "{'1000': {'name': 'onion',\n",
       "  'expire': '10/21',\n",
       "  'price': 30,\n",
       "  'category': 'vegetable',\n",
       "  'quan': 100},\n",
       " '1001': {'name': 'tomato',\n",
       "  'expire': '10/21',\n",
       "  'price': 20,\n",
       "  'category': 'vegetable',\n",
       "  'quan': 94},\n",
       " '1002': {'name': 'potato',\n",
       "  'expire': '10/21',\n",
       "  'price': 40,\n",
       "  'category': 'vegetable',\n",
       "  'quan': 100},\n",
       " '1003': {'name': 'milk',\n",
       "  'expire': '10/21',\n",
       "  'price': 34,\n",
       "  'category': 'diary',\n",
       "  'quan': 50},\n",
       " '1004': {'name': 'curd',\n",
       "  'expire': '10/21',\n",
       "  'price': 30,\n",
       "  'category': 'diary',\n",
       "  'quan': 50},\n",
       " '1005': {'name': 'chips',\n",
       "  'expire': '12/21',\n",
       "  'price': 20,\n",
       "  'category': 'snack',\n",
       "  'quan': 50},\n",
       " '1006': {'name': 'bingo',\n",
       "  'expire': '02/22',\n",
       "  'price': 10,\n",
       "  'category': 'snack',\n",
       "  'quan': 50},\n",
       " '1007': {'name': 'lays',\n",
       "  'expire': '02/22',\n",
       "  'price': 20,\n",
       "  'category': 'snack',\n",
       "  'quan': 49},\n",
       " '1008': {'name': 'biscuits',\n",
       "  'expire': '02/22',\n",
       "  'price': 25,\n",
       "  'category': 'snack',\n",
       "  'quan': 100},\n",
       " '1009': {'name': 'oil',\n",
       "  'expire': '12/21',\n",
       "  'price': 100,\n",
       "  'category': 'provision',\n",
       "  'quan': 48},\n",
       " '1010': {'name': 'rice',\n",
       "  'expire': '05/22',\n",
       "  'price': 50,\n",
       "  'category': 'provision',\n",
       "  'quan': 100},\n",
       " '1011': {'name': 'wheat',\n",
       "  'expire': '05/22',\n",
       "  'price': 50,\n",
       "  'category': 'provision',\n",
       "  'quan': -200},\n",
       " '1012': {'name': 'sugar',\n",
       "  'expire': '02/22',\n",
       "  'price': 50,\n",
       "  'category': 'provision',\n",
       "  'quan': 100},\n",
       " '1013': {'name': 'salt',\n",
       "  'expire': '02/22',\n",
       "  'price': 50,\n",
       "  'category': 'provision',\n",
       "  'quan': 100},\n",
       " '1014': {'name': 'turmaric',\n",
       "  'expire': '05/22',\n",
       "  'price': 60,\n",
       "  'category': 'provision',\n",
       "  'quan': 50},\n",
       " '1015': {'name': 'milk powder',\n",
       "  'expire': '02/22',\n",
       "  'price': 100,\n",
       "  'category': 'provision',\n",
       "  'quan': 50},\n",
       " '1016': {'name': 'soap',\n",
       "  'expire': '02/22',\n",
       "  'price': 32,\n",
       "  'category': 'provision',\n",
       "  'quan': 100},\n",
       " '1017': {'name': 'shampoo',\n",
       "  'expire': '02/22',\n",
       "  'price': 100,\n",
       "  'category': 'provision',\n",
       "  'quan': 50},\n",
       " '1018': {'name': 'diary milk',\n",
       "  'expire': '02/22',\n",
       "  'price': 20,\n",
       "  'category': 'chocolate',\n",
       "  'quan': 50},\n",
       " '1019': {'name': 'bar1',\n",
       "  'expire': '02/22',\n",
       "  'price': 10,\n",
       "  'category': 'chocolate',\n",
       "  'quan': 50},\n",
       " '1020': {'name': 'fuse',\n",
       "  'expire': '02/22',\n",
       "  'price': 20,\n",
       "  'category': 'chocolate',\n",
       "  'quan': 50},\n",
       " '1021': {'name': 'mars',\n",
       "  'expire': '02/22',\n",
       "  'price': 45,\n",
       "  'category': 'chocolate',\n",
       "  'quan': 50},\n",
       " '1022': {'name': 'nuties',\n",
       "  'expire': '02/22',\n",
       "  'price': 40,\n",
       "  'category': 'chocolate',\n",
       "  'quan': 50},\n",
       " '1023': {'name': 'temptation',\n",
       "  'expire': '02/22',\n",
       "  'price': 99,\n",
       "  'category': 'chocolate',\n",
       "  'quan': 50},\n",
       " '1024': {'name': 'silk',\n",
       "  'expire': '02/22',\n",
       "  'price': 60,\n",
       "  'category': 'chocolate',\n",
       "  'quan': 50},\n",
       " '1025': {'name': '5star',\n",
       "  'expire': '02/22',\n",
       "  'price': 20,\n",
       "  'category': 'chocolate',\n",
       "  'quan': 50},\n",
       " '1026': {'name': 'juice',\n",
       "  'expire': '02/22',\n",
       "  'price': 20,\n",
       "  'category': 'snack',\n",
       "  'quan': 100},\n",
       " '1027': {'name': 'corn flour',\n",
       "  'expire': '02/22',\n",
       "  'price': 50,\n",
       "  'category': 'provision',\n",
       "  'quan': 50},\n",
       " '1028': {'name': 'mida',\n",
       "  'expire': '02/22',\n",
       "  'price': 40,\n",
       "  'category': 'provision',\n",
       "  'quan': 50},\n",
       " '1029': {'name': 'souce',\n",
       "  'expire': '02/22',\n",
       "  'price': 50,\n",
       "  'category': 'provision',\n",
       "  'quan': 50},\n",
       " '1030': {'name': 'pasta',\n",
       "  'expire': '02/22',\n",
       "  'price': 50,\n",
       "  'category': 'provision',\n",
       "  'quan': 96},\n",
       " '1031': {'name': 'noodels',\n",
       "  'expire': '02/22',\n",
       "  'price': 40,\n",
       "  'category': 'chocolate',\n",
       "  'quan': 50},\n",
       " '1032': {'name': 'daal',\n",
       "  'expire': '02/22',\n",
       "  'price': 60,\n",
       "  'category': 'provision',\n",
       "  'quan': 100},\n",
       " '1033': {'name': 'orange',\n",
       "  'expire': '10/21',\n",
       "  'price': 60,\n",
       "  'category': 'fruit',\n",
       "  'quan': 100}}"
      ]
     },
     "execution_count": 236,
     "metadata": {},
     "output_type": "execute_result"
    }
   ],
   "source": [
    "record"
   ]
  },
  {
   "cell_type": "code",
   "execution_count": 237,
   "metadata": {},
   "outputs": [
    {
     "name": "stdout",
     "output_type": "stream",
     "text": [
      "Enter the productid:1002\n",
      "Enter the quantity:1\n",
      "Enter the name of the customer:raj\n",
      "         SUPER MARKET        \n",
      "_______________________________________\n",
      "***************************************\n",
      "Customer Name:raj\n",
      "Product  name : potato\n",
      "quan:1\n",
      "price:40\n",
      "***************************************\n",
      "Total Bill  :₸40\n"
     ]
    }
   ],
   "source": [
    "ui_prod=input(\"Enter the productid:\")\n",
    "ui_quan=int(input(\"Enter the quantity:\"))\n",
    "\n",
    "for x,y in record[ui_prod].items():\n",
    "    if(record[ui_prod]['quan']>=u_quan):\n",
    "        \n",
    "        customer=input(\"Enter the name of the customer:\")\n",
    "        print(\"         SUPER MARKET        \")\n",
    "        print(\"_______________________________________\")\n",
    "        print(\"***************************************\")\n",
    "        print(\"Customer Name:\"+customer)\n",
    "        print('Product ',x,':',y)\n",
    "        print('quan:'+str(ui_quan))\n",
    "        print('price:'+str(record[ui_prod]['price']))\n",
    "        print(\"***************************************\")\n",
    "        total=record[ui_prod]['price']*ui_quan\n",
    "        print(\"Total Bill  :\"+u\"\\u20B8\"+str(total))\n",
    "        break\n",
    "        \n",
    "    else:\n",
    "            print(\"sorry! the quantity of product available is:\"+str(record[ui_prod]['quan']))\n",
    "            break\n",
    "            \n",
    "            \n",
    "\n",
    "            "
   ]
  },
  {
   "cell_type": "code",
   "execution_count": 238,
   "metadata": {},
   "outputs": [
    {
     "name": "stdout",
     "output_type": "stream",
     "text": [
      "Enter the productid:1015\n",
      "Enter the quantity:190\n",
      "sorry! the quantity of product available is:50\n"
     ]
    }
   ],
   "source": [
    "ui_prod=input(\"Enter the productid:\")\n",
    "ui_quan=int(input(\"Enter the quantity:\"))\n",
    "\n",
    "for x,y in record[ui_prod].items():\n",
    "    if(record[ui_prod]['quan']>=ui_quan):\n",
    "        \n",
    "        customer=input(\"Enter the name of the customer:\")\n",
    "        print(\"         SUPER MARKET        \")\n",
    "        print(\"_______________________________________\")\n",
    "        print(\"***************************************\")\n",
    "        print(\"Customer Name:\"+customer)\n",
    "        print('Product ',x,':',y)\n",
    "        print('quan:'+str(ui_quan))\n",
    "        print('price:'+str(record[ui_prod]['price']))\n",
    "        print(\"***************************************\")\n",
    "        total=record[ui_prod]['price']*ui_quan\n",
    "        print(\"_______________________________________\")\n",
    "        print(\"Total Bill  :\"+u\"\\u20B8\"+str(total))\n",
    "        break\n",
    "        \n",
    "    else:\n",
    "            print(\"sorry! the quantity of product available is:\"+str(record[ui_prod]['quan']))\n",
    "            break"
   ]
  },
  {
   "cell_type": "code",
   "execution_count": 239,
   "metadata": {},
   "outputs": [],
   "source": [
    "record[u_prodid]['quan']=record[u_prodid]['quan']-u_quan"
   ]
  },
  {
   "cell_type": "code",
   "execution_count": 240,
   "metadata": {},
   "outputs": [
    {
     "data": {
      "text/plain": [
       "{'1000': {'name': 'onion',\n",
       "  'expire': '10/21',\n",
       "  'price': 30,\n",
       "  'category': 'vegetable',\n",
       "  'quan': 100},\n",
       " '1001': {'name': 'tomato',\n",
       "  'expire': '10/21',\n",
       "  'price': 20,\n",
       "  'category': 'vegetable',\n",
       "  'quan': 94},\n",
       " '1002': {'name': 'potato',\n",
       "  'expire': '10/21',\n",
       "  'price': 40,\n",
       "  'category': 'vegetable',\n",
       "  'quan': 100},\n",
       " '1003': {'name': 'milk',\n",
       "  'expire': '10/21',\n",
       "  'price': 34,\n",
       "  'category': 'diary',\n",
       "  'quan': 50},\n",
       " '1004': {'name': 'curd',\n",
       "  'expire': '10/21',\n",
       "  'price': 30,\n",
       "  'category': 'diary',\n",
       "  'quan': 46},\n",
       " '1005': {'name': 'chips',\n",
       "  'expire': '12/21',\n",
       "  'price': 20,\n",
       "  'category': 'snack',\n",
       "  'quan': 50},\n",
       " '1006': {'name': 'bingo',\n",
       "  'expire': '02/22',\n",
       "  'price': 10,\n",
       "  'category': 'snack',\n",
       "  'quan': 50},\n",
       " '1007': {'name': 'lays',\n",
       "  'expire': '02/22',\n",
       "  'price': 20,\n",
       "  'category': 'snack',\n",
       "  'quan': 49},\n",
       " '1008': {'name': 'biscuits',\n",
       "  'expire': '02/22',\n",
       "  'price': 25,\n",
       "  'category': 'snack',\n",
       "  'quan': 100},\n",
       " '1009': {'name': 'oil',\n",
       "  'expire': '12/21',\n",
       "  'price': 100,\n",
       "  'category': 'provision',\n",
       "  'quan': 48},\n",
       " '1010': {'name': 'rice',\n",
       "  'expire': '05/22',\n",
       "  'price': 50,\n",
       "  'category': 'provision',\n",
       "  'quan': 100},\n",
       " '1011': {'name': 'wheat',\n",
       "  'expire': '05/22',\n",
       "  'price': 50,\n",
       "  'category': 'provision',\n",
       "  'quan': -200},\n",
       " '1012': {'name': 'sugar',\n",
       "  'expire': '02/22',\n",
       "  'price': 50,\n",
       "  'category': 'provision',\n",
       "  'quan': 100},\n",
       " '1013': {'name': 'salt',\n",
       "  'expire': '02/22',\n",
       "  'price': 50,\n",
       "  'category': 'provision',\n",
       "  'quan': 100},\n",
       " '1014': {'name': 'turmaric',\n",
       "  'expire': '05/22',\n",
       "  'price': 60,\n",
       "  'category': 'provision',\n",
       "  'quan': 50},\n",
       " '1015': {'name': 'milk powder',\n",
       "  'expire': '02/22',\n",
       "  'price': 100,\n",
       "  'category': 'provision',\n",
       "  'quan': 50},\n",
       " '1016': {'name': 'soap',\n",
       "  'expire': '02/22',\n",
       "  'price': 32,\n",
       "  'category': 'provision',\n",
       "  'quan': 100},\n",
       " '1017': {'name': 'shampoo',\n",
       "  'expire': '02/22',\n",
       "  'price': 100,\n",
       "  'category': 'provision',\n",
       "  'quan': 50},\n",
       " '1018': {'name': 'diary milk',\n",
       "  'expire': '02/22',\n",
       "  'price': 20,\n",
       "  'category': 'chocolate',\n",
       "  'quan': 50},\n",
       " '1019': {'name': 'bar1',\n",
       "  'expire': '02/22',\n",
       "  'price': 10,\n",
       "  'category': 'chocolate',\n",
       "  'quan': 50},\n",
       " '1020': {'name': 'fuse',\n",
       "  'expire': '02/22',\n",
       "  'price': 20,\n",
       "  'category': 'chocolate',\n",
       "  'quan': 50},\n",
       " '1021': {'name': 'mars',\n",
       "  'expire': '02/22',\n",
       "  'price': 45,\n",
       "  'category': 'chocolate',\n",
       "  'quan': 50},\n",
       " '1022': {'name': 'nuties',\n",
       "  'expire': '02/22',\n",
       "  'price': 40,\n",
       "  'category': 'chocolate',\n",
       "  'quan': 50},\n",
       " '1023': {'name': 'temptation',\n",
       "  'expire': '02/22',\n",
       "  'price': 99,\n",
       "  'category': 'chocolate',\n",
       "  'quan': 50},\n",
       " '1024': {'name': 'silk',\n",
       "  'expire': '02/22',\n",
       "  'price': 60,\n",
       "  'category': 'chocolate',\n",
       "  'quan': 50},\n",
       " '1025': {'name': '5star',\n",
       "  'expire': '02/22',\n",
       "  'price': 20,\n",
       "  'category': 'chocolate',\n",
       "  'quan': 50},\n",
       " '1026': {'name': 'juice',\n",
       "  'expire': '02/22',\n",
       "  'price': 20,\n",
       "  'category': 'snack',\n",
       "  'quan': 100},\n",
       " '1027': {'name': 'corn flour',\n",
       "  'expire': '02/22',\n",
       "  'price': 50,\n",
       "  'category': 'provision',\n",
       "  'quan': 50},\n",
       " '1028': {'name': 'mida',\n",
       "  'expire': '02/22',\n",
       "  'price': 40,\n",
       "  'category': 'provision',\n",
       "  'quan': 50},\n",
       " '1029': {'name': 'souce',\n",
       "  'expire': '02/22',\n",
       "  'price': 50,\n",
       "  'category': 'provision',\n",
       "  'quan': 50},\n",
       " '1030': {'name': 'pasta',\n",
       "  'expire': '02/22',\n",
       "  'price': 50,\n",
       "  'category': 'provision',\n",
       "  'quan': 96},\n",
       " '1031': {'name': 'noodels',\n",
       "  'expire': '02/22',\n",
       "  'price': 40,\n",
       "  'category': 'chocolate',\n",
       "  'quan': 50},\n",
       " '1032': {'name': 'daal',\n",
       "  'expire': '02/22',\n",
       "  'price': 60,\n",
       "  'category': 'provision',\n",
       "  'quan': 100},\n",
       " '1033': {'name': 'orange',\n",
       "  'expire': '10/21',\n",
       "  'price': 60,\n",
       "  'category': 'fruit',\n",
       "  'quan': 100}}"
      ]
     },
     "execution_count": 240,
     "metadata": {},
     "output_type": "execute_result"
    }
   ],
   "source": [
    "record"
   ]
  },
  {
   "cell_type": "code",
   "execution_count": 241,
   "metadata": {},
   "outputs": [
    {
     "name": "stdout",
     "output_type": "stream",
     "text": [
      "Enter the productid:1027\n",
      "Enter the quantity:2\n",
      "Enter the name of the customer:sam\n",
      "         SUPER MARKET        \n",
      "_______________________________________\n",
      "***************************************\n",
      "Customer Name:sam\n",
      "Product  name : corn flour\n",
      "quan:2\n",
      "price:50\n",
      "***************************************\n",
      "Total Bill  :₸100\n"
     ]
    }
   ],
   "source": [
    "u_prodid=input(\"Enter the productid:\")\n",
    "u_quan=int(input(\"Enter the quantity:\"))\n",
    "\n",
    "for x,y in record[u_prodid].items():\n",
    "    if(record[u_prodid]['quan']>=u_quan):\n",
    "        \n",
    "        customer=input(\"Enter the name of the customer:\")\n",
    "        print(\"         SUPER MARKET        \")\n",
    "        print(\"_______________________________________\")\n",
    "        print(\"***************************************\")\n",
    "        print(\"Customer Name:\"+customer)\n",
    "        print('Product ',x,':',y)\n",
    "        print('quan:'+str(u_quan))\n",
    "        print('price:'+str(record[u_prodid]['price']))\n",
    "        print(\"***************************************\")\n",
    "        total=record[u_prodid]['price']*u_quan\n",
    "        print(\"Total Bill  :\"+u\"\\u20B8\"+str(total))\n",
    "        break\n",
    "        \n",
    "    else:\n",
    "            print(\"sorry! the quantity of product available is:\"+str(record[u_prodid]['quan']))\n",
    "            break"
   ]
  },
  {
   "cell_type": "code",
   "execution_count": 242,
   "metadata": {},
   "outputs": [],
   "source": [
    "js=json.dumps(record)\n",
    "fd=open(\"record.json\",'w')\n",
    "fd.write(js)\n",
    "fd.close()"
   ]
  },
  {
   "cell_type": "code",
   "execution_count": 243,
   "metadata": {},
   "outputs": [],
   "source": [
    "fd=open(\"record.json\",'r')\n",
    "txt=fd.read()\n",
    "fd.close()"
   ]
  },
  {
   "cell_type": "code",
   "execution_count": 244,
   "metadata": {},
   "outputs": [
    {
     "data": {
      "text/plain": [
       "'{\"1000\": {\"name\": \"onion\", \"expire\": \"10/21\", \"price\": 30, \"category\": \"vegetable\", \"quan\": 100}, \"1001\": {\"name\": \"tomato\", \"expire\": \"10/21\", \"price\": 20, \"category\": \"vegetable\", \"quan\": 94}, \"1002\": {\"name\": \"potato\", \"expire\": \"10/21\", \"price\": 40, \"category\": \"vegetable\", \"quan\": 100}, \"1003\": {\"name\": \"milk\", \"expire\": \"10/21\", \"price\": 34, \"category\": \"diary\", \"quan\": 50}, \"1004\": {\"name\": \"curd\", \"expire\": \"10/21\", \"price\": 30, \"category\": \"diary\", \"quan\": 46}, \"1005\": {\"name\": \"chips\", \"expire\": \"12/21\", \"price\": 20, \"category\": \"snack\", \"quan\": 50}, \"1006\": {\"name\": \"bingo\", \"expire\": \"02/22\", \"price\": 10, \"category\": \"snack\", \"quan\": 50}, \"1007\": {\"name\": \"lays\", \"expire\": \"02/22\", \"price\": 20, \"category\": \"snack\", \"quan\": 49}, \"1008\": {\"name\": \"biscuits\", \"expire\": \"02/22\", \"price\": 25, \"category\": \"snack\", \"quan\": 100}, \"1009\": {\"name\": \"oil\", \"expire\": \"12/21\", \"price\": 100, \"category\": \"provision\", \"quan\": 48}, \"1010\": {\"name\": \"rice\", \"expire\": \"05/22\", \"price\": 50, \"category\": \"provision\", \"quan\": 100}, \"1011\": {\"name\": \"wheat\", \"expire\": \"05/22\", \"price\": 50, \"category\": \"provision\", \"quan\": -200}, \"1012\": {\"name\": \"sugar\", \"expire\": \"02/22\", \"price\": 50, \"category\": \"provision\", \"quan\": 100}, \"1013\": {\"name\": \"salt\", \"expire\": \"02/22\", \"price\": 50, \"category\": \"provision\", \"quan\": 100}, \"1014\": {\"name\": \"turmaric\", \"expire\": \"05/22\", \"price\": 60, \"category\": \"provision\", \"quan\": 50}, \"1015\": {\"name\": \"milk powder\", \"expire\": \"02/22\", \"price\": 100, \"category\": \"provision\", \"quan\": 50}, \"1016\": {\"name\": \"soap\", \"expire\": \"02/22\", \"price\": 32, \"category\": \"provision\", \"quan\": 100}, \"1017\": {\"name\": \"shampoo\", \"expire\": \"02/22\", \"price\": 100, \"category\": \"provision\", \"quan\": 50}, \"1018\": {\"name\": \"diary milk\", \"expire\": \"02/22\", \"price\": 20, \"category\": \"chocolate\", \"quan\": 50}, \"1019\": {\"name\": \"bar1\", \"expire\": \"02/22\", \"price\": 10, \"category\": \"chocolate\", \"quan\": 50}, \"1020\": {\"name\": \"fuse\", \"expire\": \"02/22\", \"price\": 20, \"category\": \"chocolate\", \"quan\": 50}, \"1021\": {\"name\": \"mars\", \"expire\": \"02/22\", \"price\": 45, \"category\": \"chocolate\", \"quan\": 50}, \"1022\": {\"name\": \"nuties\", \"expire\": \"02/22\", \"price\": 40, \"category\": \"chocolate\", \"quan\": 50}, \"1023\": {\"name\": \"temptation\", \"expire\": \"02/22\", \"price\": 99, \"category\": \"chocolate\", \"quan\": 50}, \"1024\": {\"name\": \"silk\", \"expire\": \"02/22\", \"price\": 60, \"category\": \"chocolate\", \"quan\": 50}, \"1025\": {\"name\": \"5star\", \"expire\": \"02/22\", \"price\": 20, \"category\": \"chocolate\", \"quan\": 50}, \"1026\": {\"name\": \"juice\", \"expire\": \"02/22\", \"price\": 20, \"category\": \"snack\", \"quan\": 100}, \"1027\": {\"name\": \"corn flour\", \"expire\": \"02/22\", \"price\": 50, \"category\": \"provision\", \"quan\": 50}, \"1028\": {\"name\": \"mida\", \"expire\": \"02/22\", \"price\": 40, \"category\": \"provision\", \"quan\": 50}, \"1029\": {\"name\": \"souce\", \"expire\": \"02/22\", \"price\": 50, \"category\": \"provision\", \"quan\": 50}, \"1030\": {\"name\": \"pasta\", \"expire\": \"02/22\", \"price\": 50, \"category\": \"provision\", \"quan\": 96}, \"1031\": {\"name\": \"noodels\", \"expire\": \"02/22\", \"price\": 40, \"category\": \"chocolate\", \"quan\": 50}, \"1032\": {\"name\": \"daal\", \"expire\": \"02/22\", \"price\": 60, \"category\": \"provision\", \"quan\": 100}, \"1033\": {\"name\": \"orange\", \"expire\": \"10/21\", \"price\": 60, \"category\": \"fruit\", \"quan\": 100}}'"
      ]
     },
     "execution_count": 244,
     "metadata": {},
     "output_type": "execute_result"
    }
   ],
   "source": [
    "txt"
   ]
  },
  {
   "cell_type": "markdown",
   "metadata": {},
   "source": [
    "# Sales"
   ]
  },
  {
   "cell_type": "code",
   "execution_count": 273,
   "metadata": {},
   "outputs": [],
   "source": [
    "import json"
   ]
  },
  {
   "cell_type": "code",
   "execution_count": 274,
   "metadata": {},
   "outputs": [],
   "source": [
    "fd=open(\"sales.json\",'r')\n",
    "txt=fd.read()\n",
    "fd.close()"
   ]
  },
  {
   "cell_type": "code",
   "execution_count": 275,
   "metadata": {},
   "outputs": [],
   "source": [
    "sales=json.loads(txt)"
   ]
  },
  {
   "cell_type": "code",
   "execution_count": 276,
   "metadata": {},
   "outputs": [
    {
     "data": {
      "text/plain": [
       "{'prod': '1015', 'quan': 190, 'amount': 19000}"
      ]
     },
     "execution_count": 276,
     "metadata": {},
     "output_type": "execute_result"
    }
   ],
   "source": [
    "{'prod':ui_prod,'quan':ui_quan,'amount':record[ui_prod]['price']*ui_quan}"
   ]
  },
  {
   "cell_type": "code",
   "execution_count": 277,
   "metadata": {},
   "outputs": [],
   "source": [
    "sales={1:{'prod':ui_prod,'quan':ui_quan,'amount':record[ui_prod]['price']*ui_quan},\n",
    "       2:{'prod':ui_prod,'quan':ui_quan,'amount':record[ui_prod]['price']*ui_quan},\n",
    "       3:{'prod':ui_prod,'quan':ui_quan,'amount':record[ui_prod]['price']*ui_quan}}"
   ]
  },
  {
   "cell_type": "code",
   "execution_count": 284,
   "metadata": {},
   "outputs": [],
   "source": [
    "sale=json.dumps(sales)"
   ]
  },
  {
   "cell_type": "code",
   "execution_count": 285,
   "metadata": {},
   "outputs": [
    {
     "data": {
      "text/plain": [
       "{5: {'prod': '1015', 'quan': 190, 'amount': 19000}}"
      ]
     },
     "execution_count": 285,
     "metadata": {},
     "output_type": "execute_result"
    }
   ],
   "source": [
    "{(len(sales)+1):{'prod':ui_prod,'quan':ui_quan,'amount':record[ui_prod]['price']*ui_quan}}"
   ]
  },
  {
   "cell_type": "code",
   "execution_count": 286,
   "metadata": {},
   "outputs": [],
   "source": [
    "sales[(len(sales)+1)]={'prod':ui_prod,'quan':ui_quan,'amount':record[ui_prod]['price']*ui_quan}"
   ]
  },
  {
   "cell_type": "code",
   "execution_count": 287,
   "metadata": {},
   "outputs": [
    {
     "data": {
      "text/plain": [
       "{1: {'prod': '1015', 'quan': 190, 'amount': 19000},\n",
       " 2: {'prod': '1015', 'quan': 190, 'amount': 19000},\n",
       " 3: {'prod': '1015', 'quan': 190, 'amount': 19000},\n",
       " 4: {'prod': '1015', 'quan': 190, 'amount': 19000},\n",
       " 5: {'prod': '1015', 'quan': 190, 'amount': 19000}}"
      ]
     },
     "execution_count": 287,
     "metadata": {},
     "output_type": "execute_result"
    }
   ],
   "source": [
    "sales"
   ]
  },
  {
   "cell_type": "code",
   "execution_count": 288,
   "metadata": {},
   "outputs": [],
   "source": [
    "fd=open(\"sales.json\",'w')\n",
    "txt=fd.write(sale)\n",
    "fd.close()"
   ]
  },
  {
   "cell_type": "code",
   "execution_count": null,
   "metadata": {},
   "outputs": [],
   "source": []
  }
 ],
 "metadata": {
  "kernelspec": {
   "display_name": "Python 3",
   "language": "python",
   "name": "python3"
  },
  "language_info": {
   "codemirror_mode": {
    "name": "ipython",
    "version": 3
   },
   "file_extension": ".py",
   "mimetype": "text/x-python",
   "name": "python",
   "nbconvert_exporter": "python",
   "pygments_lexer": "ipython3",
   "version": "3.7.4"
  }
 },
 "nbformat": 4,
 "nbformat_minor": 2
}
